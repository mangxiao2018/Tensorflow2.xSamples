{
 "cells": [
  {
   "cell_type": "markdown",
   "metadata": {},
   "source": [
    "# cast-reduce-max-min"
   ]
  },
  {
   "cell_type": "code",
   "execution_count": 1,
   "metadata": {},
   "outputs": [],
   "source": [
    "import tensorflow as tf"
   ]
  },
  {
   "cell_type": "code",
   "execution_count": 3,
   "metadata": {},
   "outputs": [
    {
     "name": "stdout",
     "output_type": "stream",
     "text": [
      "x1: tf.Tensor([1. 2. 3.], shape=(3,), dtype=float64)\n",
      "x2: tf.Tensor([1 2 3], shape=(3,), dtype=int32)\n",
      "mininum of x2: tf.Tensor(1, shape=(), dtype=int32)\n",
      "maxmum of x2: tf.Tensor(3, shape=(), dtype=int32)\n"
     ]
    }
   ],
   "source": [
    "x1 = tf.constant([1.,2.,3.], dtype=tf.float64)\n",
    "print(\"x1:\",x1)\n",
    "# 把float64位数据转成int32位\n",
    "x2 = tf.cast(x1, tf.int32)\n",
    "print(\"x2:\",x2)\n",
    "# 求最小值\n",
    "print(\"mininum of x2:\",tf.reduce_min(x2))\n",
    "# 求最大值\n",
    "print(\"maxmum of x2:\",tf.reduce_max(x2))"
   ]
  },
  {
   "cell_type": "code",
   "execution_count": null,
   "metadata": {},
   "outputs": [],
   "source": []
  }
 ],
 "metadata": {
  "kernelspec": {
   "display_name": "Python 3",
   "language": "python",
   "name": "python3"
  },
  "language_info": {
   "codemirror_mode": {
    "name": "ipython",
    "version": 3
   },
   "file_extension": ".py",
   "mimetype": "text/x-python",
   "name": "python",
   "nbconvert_exporter": "python",
   "pygments_lexer": "ipython3",
   "version": "3.7.7"
  }
 },
 "nbformat": 4,
 "nbformat_minor": 4
}
