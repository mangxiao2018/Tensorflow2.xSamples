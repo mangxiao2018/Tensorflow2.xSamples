{
 "cells": [
  {
   "cell_type": "code",
   "execution_count": 1,
   "metadata": {},
   "outputs": [],
   "source": [
    "import numpy as np\n",
    "import tensorflow as tf"
   ]
  },
  {
   "cell_type": "code",
   "execution_count": 2,
   "metadata": {},
   "outputs": [
    {
     "name": "stdout",
     "output_type": "stream",
     "text": [
      "x:\n",
      " [[1. 1. 1. 1.]\n",
      " [2. 2. 2. 2.]]\n",
      "y:\n",
      " [[2.  2.5 3.  3.5]\n",
      " [2.  2.5 3.  3.5]]\n",
      "x.ravel():\n",
      " [1. 1. 1. 1. 2. 2. 2. 2.]\n",
      "y.ravel():\n",
      " [2.  2.5 3.  3.5 2.  2.5 3.  3.5]\n",
      "grid:\n",
      " [[1.  2. ]\n",
      " [1.  2.5]\n",
      " [1.  3. ]\n",
      " [1.  3.5]\n",
      " [2.  2. ]\n",
      " [2.  2.5]\n",
      " [2.  3. ]\n",
      " [2.  3.5]]\n"
     ]
    }
   ],
   "source": [
    "# 生成等间隔数值点\n",
    "x, y = np.mgrid[1:3:1, 2:4:0.5]\n",
    "# 将x, y拉直，并合并配对为二维张量，生成二维坐标点\n",
    "grid = np.c_[x.ravel(), y.ravel()]\n",
    "print(\"x:\\n\", x)\n",
    "print(\"y:\\n\", y)\n",
    "print(\"x.ravel():\\n\", x.ravel())\n",
    "print(\"y.ravel():\\n\", y.ravel())\n",
    "print('grid:\\n', grid)"
   ]
  },
  {
   "cell_type": "code",
   "execution_count": null,
   "metadata": {},
   "outputs": [],
   "source": []
  }
 ],
 "metadata": {
  "kernelspec": {
   "display_name": "Python 3",
   "language": "python",
   "name": "python3"
  },
  "language_info": {
   "codemirror_mode": {
    "name": "ipython",
    "version": 3
   },
   "file_extension": ".py",
   "mimetype": "text/x-python",
   "name": "python",
   "nbconvert_exporter": "python",
   "pygments_lexer": "ipython3",
   "version": "3.7.7"
  }
 },
 "nbformat": 4,
 "nbformat_minor": 4
}
