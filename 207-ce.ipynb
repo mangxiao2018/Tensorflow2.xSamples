{
 "cells": [
  {
   "cell_type": "code",
   "execution_count": 1,
   "metadata": {},
   "outputs": [],
   "source": [
    "import tensorflow as tf"
   ]
  },
  {
   "cell_type": "code",
   "execution_count": 2,
   "metadata": {},
   "outputs": [
    {
     "name": "stdout",
     "output_type": "stream",
     "text": [
      "loss_ce1: tf.Tensor(0.5108256, shape=(), dtype=float32)\n",
      "loss_ce2: tf.Tensor(0.22314353, shape=(), dtype=float32)\n"
     ]
    }
   ],
   "source": [
    "loss_ce1 = tf.losses.categorical_crossentropy([1, 0], [0.6, 0.4])\n",
    "loss_ce2 = tf.losses.categorical_crossentropy([1, 0], [0.8, 0.2])\n",
    "print(\"loss_ce1:\", loss_ce1)\n",
    "print(\"loss_ce2:\", loss_ce2)\n",
    "\n",
    "# 交叉熵损失函数"
   ]
  },
  {
   "cell_type": "code",
   "execution_count": null,
   "metadata": {},
   "outputs": [],
   "source": []
  }
 ],
 "metadata": {
  "kernelspec": {
   "display_name": "Python 3",
   "language": "python",
   "name": "python3"
  },
  "language_info": {
   "codemirror_mode": {
    "name": "ipython",
    "version": 3
   },
   "file_extension": ".py",
   "mimetype": "text/x-python",
   "name": "python",
   "nbconvert_exporter": "python",
   "pygments_lexer": "ipython3",
   "version": "3.7.7"
  }
 },
 "nbformat": 4,
 "nbformat_minor": 4
}
