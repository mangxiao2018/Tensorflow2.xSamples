{
 "cells": [
  {
   "cell_type": "code",
   "execution_count": 2,
   "metadata": {},
   "outputs": [],
   "source": [
    "import tensorflow as tf"
   ]
  },
  {
   "cell_type": "code",
   "execution_count": 3,
   "metadata": {},
   "outputs": [
    {
     "name": "stdout",
     "output_type": "stream",
     "text": [
      "x: tf.Tensor(\n",
      "[[1 2 4]\n",
      " [2 3 4]], shape=(2, 3), dtype=int32)\n",
      "mean of x: tf.Tensor(2, shape=(), dtype=int32)\n",
      "sum of x: tf.Tensor([7 9], shape=(2,), dtype=int32)\n"
     ]
    }
   ],
   "source": [
    "x =  tf.constant([[1,2,4],[2,3,4]])\n",
    "print(\"x:\",x)\n",
    "# 求X中所有数的均值\n",
    "print(\"mean of x:\", tf.reduce_mean(x))\n",
    "# 求每一行的和\n",
    "print(\"sum of x:\", tf.reduce_sum(x, axis=1))"
   ]
  },
  {
   "cell_type": "code",
   "execution_count": null,
   "metadata": {},
   "outputs": [],
   "source": []
  }
 ],
 "metadata": {
  "kernelspec": {
   "display_name": "Python 3",
   "language": "python",
   "name": "python3"
  },
  "language_info": {
   "codemirror_mode": {
    "name": "ipython",
    "version": 3
   },
   "file_extension": ".py",
   "mimetype": "text/x-python",
   "name": "python",
   "nbconvert_exporter": "python",
   "pygments_lexer": "ipython3",
   "version": "3.7.7"
  }
 },
 "nbformat": 4,
 "nbformat_minor": 4
}
