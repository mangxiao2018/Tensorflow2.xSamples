{
 "cells": [
  {
   "cell_type": "code",
   "execution_count": 1,
   "metadata": {},
   "outputs": [],
   "source": [
    "# softmax与交叉熵损失函数的结合\n",
    "import tensorflow as tf\n",
    "import numpy as np"
   ]
  },
  {
   "cell_type": "code",
   "execution_count": 2,
   "metadata": {},
   "outputs": [
    {
     "name": "stdout",
     "output_type": "stream",
     "text": [
      "分步计算的结果:\n",
      " tf.Tensor(\n",
      "[1.68795487e-04 1.03475622e-03 6.58839038e-02 2.58349207e+00\n",
      " 5.49852354e-02], shape=(5,), dtype=float64)\n",
      "结合计算的结果:\n",
      " tf.Tensor(\n",
      "[1.68795487e-04 1.03475622e-03 6.58839038e-02 2.58349207e+00\n",
      " 5.49852354e-02], shape=(5,), dtype=float64)\n"
     ]
    }
   ],
   "source": [
    "y_ = np.array([[1,0,0],[0,1,0],[0,0,1],[1,0,0],[0,1,0]])\n",
    "y = np.array([[12,3,2],[3,10,1],[1,2,5],[4,6.5,1.2],[3,6,1]])\n",
    "y_pro = tf.nn.softmax(y)\n",
    "loss_ce1 = tf.losses.categorical_crossentropy(y_,y_pro)\n",
    "loss_ce2 = tf.nn.softmax_cross_entropy_with_logits(y_,y)\n",
    "\n",
    "print('分步计算的结果:\\n', loss_ce1)\n",
    "print('结合计算的结果:\\n', loss_ce2)\n",
    "\n",
    "\n",
    "# 输出的结果相同"
   ]
  },
  {
   "cell_type": "code",
   "execution_count": null,
   "metadata": {},
   "outputs": [],
   "source": []
  }
 ],
 "metadata": {
  "kernelspec": {
   "display_name": "Python 3",
   "language": "python",
   "name": "python3"
  },
  "language_info": {
   "codemirror_mode": {
    "name": "ipython",
    "version": 3
   },
   "file_extension": ".py",
   "mimetype": "text/x-python",
   "name": "python",
   "nbconvert_exporter": "python",
   "pygments_lexer": "ipython3",
   "version": "3.7.7"
  }
 },
 "nbformat": 4,
 "nbformat_minor": 4
}
