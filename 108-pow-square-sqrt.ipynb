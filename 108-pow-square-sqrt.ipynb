{
 "cells": [
  {
   "cell_type": "markdown",
   "metadata": {},
   "source": [
    "# pow-square-sqrt"
   ]
  },
  {
   "cell_type": "code",
   "execution_count": 1,
   "metadata": {},
   "outputs": [],
   "source": [
    "import tensorflow as tf"
   ]
  },
  {
   "cell_type": "code",
   "execution_count": 2,
   "metadata": {},
   "outputs": [
    {
     "name": "stdout",
     "output_type": "stream",
     "text": [
      "a: tf.Tensor([[3. 3.]], shape=(1, 2), dtype=float32)\n",
      "a的平方: tf.Tensor([[27. 27.]], shape=(1, 2), dtype=float32)\n",
      "a的平方: tf.Tensor([[9. 9.]], shape=(1, 2), dtype=float32)\n",
      "a的开方: tf.Tensor([[1.7320508 1.7320508]], shape=(1, 2), dtype=float32)\n"
     ]
    }
   ],
   "source": [
    "a = tf.fill([1, 2], 3.)\n",
    "print(\"a:\", a)\n",
    "print(\"a的平方:\", tf.pow(a, 3))\n",
    "print(\"a的平方:\", tf.square(a))\n",
    "print(\"a的开方:\", tf.sqrt(a))\n"
   ]
  },
  {
   "cell_type": "code",
   "execution_count": null,
   "metadata": {},
   "outputs": [],
   "source": []
  }
 ],
 "metadata": {
  "kernelspec": {
   "display_name": "Python 3",
   "language": "python",
   "name": "python3"
  },
  "language_info": {
   "codemirror_mode": {
    "name": "ipython",
    "version": 3
   },
   "file_extension": ".py",
   "mimetype": "text/x-python",
   "name": "python",
   "nbconvert_exporter": "python",
   "pygments_lexer": "ipython3",
   "version": "3.7.7"
  }
 },
 "nbformat": 4,
 "nbformat_minor": 4
}
