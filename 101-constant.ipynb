{
 "cells": [
  {
   "cell_type": "markdown",
   "metadata": {},
   "source": [
    "# constant"
   ]
  },
  {
   "cell_type": "code",
   "execution_count": 1,
   "metadata": {},
   "outputs": [
    {
     "name": "stdout",
     "output_type": "stream",
     "text": [
      "2.2.0\n"
     ]
    }
   ],
   "source": [
    "import tensorflow as tf\n",
    "print(tf.__version__)"
   ]
  },
  {
   "cell_type": "code",
   "execution_count": 2,
   "metadata": {},
   "outputs": [
    {
     "name": "stdout",
     "output_type": "stream",
     "text": [
      "a: tf.Tensor([1. 5.], shape=(2,), dtype=float64)\n",
      "a.dtype: <dtype: 'float64'>\n",
      "a.shape: (2,)\n"
     ]
    }
   ],
   "source": [
    "# 创建张量，并标明数据类型\n",
    "a = tf.constant([1,5], dtype=tf.float64)\n",
    "print(\"a:\", a)\n",
    "print(\"a.dtype:\", a.dtype)\n",
    "print(\"a.shape:\", a.shape)"
   ]
  },
  {
   "cell_type": "code",
   "execution_count": 4,
   "metadata": {},
   "outputs": [
    {
     "name": "stdout",
     "output_type": "stream",
     "text": [
      "a: tf.Tensor([1 5], shape=(2,), dtype=int32)\n",
      "a.dtype: <dtype: 'int32'>\n",
      "a.shape: (2,)\n"
     ]
    }
   ],
   "source": [
    "# 创建张量，不标明数据类型，使用默认值\n",
    "a = tf.constant([1,5])\n",
    "print(\"a:\", a)\n",
    "print(\"a.dtype:\", a.dtype)\n",
    "print(\"a.shape:\", a.shape)"
   ]
  },
  {
   "cell_type": "code",
   "execution_count": null,
   "metadata": {},
   "outputs": [],
   "source": []
  },
  {
   "cell_type": "code",
   "execution_count": null,
   "metadata": {},
   "outputs": [],
   "source": []
  }
 ],
 "metadata": {
  "kernelspec": {
   "display_name": "Python 3",
   "language": "python",
   "name": "python3"
  },
  "language_info": {
   "codemirror_mode": {
    "name": "ipython",
    "version": 3
   },
   "file_extension": ".py",
   "mimetype": "text/x-python",
   "name": "python",
   "nbconvert_exporter": "python",
   "pygments_lexer": "ipython3",
   "version": "3.7.7"
  }
 },
 "nbformat": 4,
 "nbformat_minor": 4
}
