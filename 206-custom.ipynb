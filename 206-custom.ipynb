{
 "cells": [
  {
   "cell_type": "code",
   "execution_count": null,
   "metadata": {},
   "outputs": [],
   "source": [
    "import tensorflow as tf\n",
    "import numpy as np"
   ]
  },
  {
   "cell_type": "code",
   "execution_count": null,
   "metadata": {},
   "outputs": [],
   "source": [
    "# 自定义损失函数\n",
    "# 酸奶成本1元， 酸奶利润99元\n",
    "# 成本很低，利润很高，人们希望多预测些，生成模型系数大于1，往多了预测\n",
    "\n",
    "SEED = 23455\n",
    "COST = 1\n",
    "PROFIT = 99\n",
    "\n",
    "rdm = np.random.RandomState(SEED)\n",
    "x = rdm.rand(32, 2)\n",
    "y_ = [[x1 + x2 + (rdm.rand() / 10.0 - 0.05)] for (x1, x2) in x]  # 生成噪声[0,1)/10=[0,0.1); [0,0.1)-0.05=[-0.05,0.05)\n",
    "x = tf.cast(x, dtype=tf.float32)\n",
    "\n",
    "w1 = tf.Variable(tf.random.normal([2, 1], stddev=1, seed=1))\n",
    "\n",
    "epoch = 10000\n",
    "lr = 0.002\n",
    "\n",
    "for epoch in range(epoch):\n",
    "    with tf.GradientTape() as tape:\n",
    "        y = tf.matmul(x, w1)\n",
    "        loss = tf.reduce_sum(tf.where(tf.greater(y, y_), (y - y_) * COST, (y_ - y) * PROFIT))\n",
    "\n",
    "    grads = tape.gradient(loss, w1)\n",
    "    w1.assign_sub(lr * grads)\n",
    "\n",
    "    if epoch % 500 == 0:\n",
    "        print(\"After %d training steps,w1 is \" % (epoch))\n",
    "        print(w1.numpy(), \"\\n\")\n",
    "print(\"Final w1 is: \", w1.numpy())"
   ]
  }
 ],
 "metadata": {
  "kernelspec": {
   "display_name": "Python 3",
   "language": "python",
   "name": "python3"
  },
  "language_info": {
   "codemirror_mode": {
    "name": "ipython",
    "version": 3
   },
   "file_extension": ".py",
   "mimetype": "text/x-python",
   "name": "python",
   "nbconvert_exporter": "python",
   "pygments_lexer": "ipython3",
   "version": "3.7.7"
  }
 },
 "nbformat": 4,
 "nbformat_minor": 4
}
