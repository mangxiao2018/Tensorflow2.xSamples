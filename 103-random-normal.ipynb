{
 "cells": [
  {
   "cell_type": "markdown",
   "metadata": {},
   "source": [
    "# random-normal"
   ]
  },
  {
   "cell_type": "code",
   "execution_count": 1,
   "metadata": {},
   "outputs": [],
   "source": [
    "import tensorflow as tf"
   ]
  },
  {
   "cell_type": "code",
   "execution_count": 9,
   "metadata": {},
   "outputs": [
    {
     "name": "stdout",
     "output_type": "stream",
     "text": [
      "a: tf.Tensor(\n",
      "[[ 3.6648624  1.063337   2.0807095]\n",
      " [ 2.0119984 -1.8328631 -1.1814233]], shape=(2, 3), dtype=float32)\n"
     ]
    }
   ],
   "source": [
    "# 所取值不一定非在[2,3]间\n",
    "a = tf.random.normal([2,3], mean=0.5, stddev=1)\n",
    "print(\"a:\",a)"
   ]
  },
  {
   "cell_type": "code",
   "execution_count": 12,
   "metadata": {},
   "outputs": [
    {
     "name": "stdout",
     "output_type": "stream",
     "text": [
      "e: tf.Tensor(\n",
      "[[-0.60818577  0.9905755   0.9412654 ]\n",
      " [ 0.26507697 -0.8701589  -0.25461513]], shape=(2, 3), dtype=float32)\n"
     ]
    }
   ],
   "source": [
    "# 所取值一定要在[2,3]间，如有超出重取\n",
    "e = tf.random.truncated_normal([2,3], mean=0.5, stddev=1)\n",
    "print(\"e:\",e)"
   ]
  },
  {
   "cell_type": "code",
   "execution_count": null,
   "metadata": {},
   "outputs": [],
   "source": []
  }
 ],
 "metadata": {
  "kernelspec": {
   "display_name": "Python 3",
   "language": "python",
   "name": "python3"
  },
  "language_info": {
   "codemirror_mode": {
    "name": "ipython",
    "version": 3
   },
   "file_extension": ".py",
   "mimetype": "text/x-python",
   "name": "python",
   "nbconvert_exporter": "python",
   "pygments_lexer": "ipython3",
   "version": "3.7.7"
  }
 },
 "nbformat": 4,
 "nbformat_minor": 4
}
